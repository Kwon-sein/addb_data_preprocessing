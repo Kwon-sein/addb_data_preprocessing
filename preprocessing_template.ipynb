# 파일 경로 지정
file_path = './path/to/file'

import json
import pandas as pd

# JSON 파일의 구조를 확인하는 함수
def inspect_json_structure(file_path):
    with open(file_path, 'r') as file:
        data = json.load(file)
        
        if isinstance(data, dict):
            for key in data.keys():
                print(f"Key: {key}, Type: {type(data[key])}")
        elif isinstance(data, list):
            print(f"List of {len(data)} items")
            if len(data) > 0:
                print(f"First item type: {type(data[0])}")

# JSON 파일을 읽어서 DataFrame으로 변환
def json_to_dataframe(file_path):
    with open(file_path, 'r') as file:
        data = json.load(file)
        
        if isinstance(data, list):
            df = pd.DataFrame(data)
        elif isinstance(data, dict):
            df = pd.DataFrame([data])
        
        return df

# JSON 파일 경로 지정
file_path = './fast_charge/FastCharge_000041_CH10_structure.json'

# JSON 파일 구조 확인
inspect_json_structure(file_path)

# JSON 데이터를 DataFrame으로 변환하고 출력
df = json_to_dataframe(file_path)
print(df)

