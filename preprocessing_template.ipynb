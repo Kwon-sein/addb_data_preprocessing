{
 "cells": [
  {
   "cell_type": "code",
   "execution_count": null,
   "id": "27d80009-e744-4aac-b072-1cb4c1b928ea",
   "metadata": {},
   "outputs": [],
   "source": [
    "# 파일 경로 지정\n",
    "file_path = './path/to/file'"
   ]
  },
  {
   "cell_type": "code",
   "execution_count": 16,
   "id": "6e29f87a-1b18-4bb9-bff5-355205c37015",
   "metadata": {},
   "outputs": [
    {
     "name": "stdout",
     "output_type": "stream",
     "text": [
      "Key: @module, Type: <class 'str'>\n",
      "Key: @class, Type: <class 'str'>\n",
      "Key: barcode, Type: <class 'str'>\n",
      "Key: protocol, Type: <class 'str'>\n",
      "Key: channel_id, Type: <class 'int'>\n",
      "Key: summary, Type: <class 'dict'>\n",
      "Key: cycles_interpolated, Type: <class 'dict'>\n",
      "Key: diagnostic_summary, Type: <class 'NoneType'>\n",
      "Key: diagnostic_interpolated, Type: <class 'NoneType'>\n",
      "Key: @version, Type: <class 'str'>\n",
      "          @module              @class         barcode  \\\n",
      "0  beep.structure  ProcessedCyclerRun  el150800460605   \n",
      "\n",
      "                                    protocol  channel_id  \\\n",
      "0  2017-06-30_tests\\20170629-2C_10per_6C.sdu           9   \n",
      "\n",
      "                                             summary  \\\n",
      "0  {'cycle_index': [0, 1, 2, 3, 4, 5, 6, 7, 8, 9,...   \n",
      "\n",
      "                                 cycles_interpolated diagnostic_summary  \\\n",
      "0  {'voltage': [2.799999952316284, 2.800700664520...               None   \n",
      "\n",
      "  diagnostic_interpolated               @version  \n",
      "0                    None  2020.10.19.20-8667111  \n"
     ]
    }
   ],
   "source": [
    "import json\n",
    "import pandas as pd\n",
    "\n",
    "# JSON 파일의 구조를 확인하는 함수\n",
    "def inspect_json_structure(file_path):\n",
    "    with open(file_path, 'r') as file:\n",
    "        data = json.load(file)\n",
    "        \n",
    "        if isinstance(data, dict):\n",
    "            for key in data.keys():\n",
    "                print(f\"Key: {key}, Type: {type(data[key])}\")\n",
    "        elif isinstance(data, list):\n",
    "            print(f\"List of {len(data)} items\")\n",
    "            if len(data) > 0:\n",
    "                print(f\"First item type: {type(data[0])}\")\n",
    "\n",
    "# JSON 파일을 읽어서 DataFrame으로 변환\n",
    "def json_to_dataframe(file_path):\n",
    "    with open(file_path, 'r') as file:\n",
    "        data = json.load(file)\n",
    "        \n",
    "        if isinstance(data, list):\n",
    "            df = pd.DataFrame(data)\n",
    "        elif isinstance(data, dict):\n",
    "            df = pd.DataFrame([data])\n",
    "        \n",
    "        return df\n",
    "\n",
    "# JSON 파일 경로 지정\n",
    "file_path = './fast_charge/FastCharge_000041_CH10_structure.json'\n",
    "\n",
    "# JSON 파일 구조 확인\n",
    "inspect_json_structure(file_path)\n",
    "\n",
    "# JSON 데이터를 DataFrame으로 변환하고 출력\n",
    "df = json_to_dataframe(file_path)\n",
    "print(df)\n"
   ]
  },
  {
   "cell_type": "code",
   "execution_count": null,
   "id": "d5ca5feb-b835-4aad-891c-71176ee182ae",
   "metadata": {},
   "outputs": [],
   "source": []
  }
 ],
 "metadata": {
  "kernelspec": {
   "display_name": "Python 3 (ipykernel)",
   "language": "python",
   "name": "python3"
  },
  "language_info": {
   "codemirror_mode": {
    "name": "ipython",
    "version": 3
   },
   "file_extension": ".py",
   "mimetype": "text/x-python",
   "name": "python",
   "nbconvert_exporter": "python",
   "pygments_lexer": "ipython3",
   "version": "3.11.7"
  }
 },
 "nbformat": 4,
 "nbformat_minor": 5
}
